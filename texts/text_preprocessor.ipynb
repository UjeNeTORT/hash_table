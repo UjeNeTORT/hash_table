{
 "cells": [
  {
   "cell_type": "code",
   "execution_count": 1,
   "metadata": {},
   "outputs": [],
   "source": [
    "import re"
   ]
  },
  {
   "cell_type": "code",
   "execution_count": 2,
   "metadata": {},
   "outputs": [],
   "source": [
    "def preprocess_text(text: str):\n",
    "    text = text.lower()\n",
    "    text = re.sub(r'[^\\w\\s]', '', text)\n",
    "    text = re.sub('[^a-zA-Zа-яА-Я1-9]+', ' ', text)\n",
    "    text = re.sub(' +', '\\n', text)\n",
    "    return text.strip()"
   ]
  },
  {
   "cell_type": "code",
   "execution_count": 3,
   "metadata": {},
   "outputs": [],
   "source": [
    "RAW_TEXT_NAME          = '../texts/raw/Martin, George RR - Ice and Fire 4 - A Feast for Crows.txt'\n",
    "PREPROCESSED_TEXT_NAME = '../texts/preprocessed/GeorgeRRMartin.txt'\n",
    "\n",
    "RAW_TEXT_NAME          = '../texts/raw/small.txt'\n",
    "PREPROCESSED_TEXT_NAME = '../texts/preprocessed/small.txt'"
   ]
  },
  {
   "cell_type": "code",
   "execution_count": 4,
   "metadata": {},
   "outputs": [],
   "source": [
    "with open (RAW_TEXT_NAME, \"r\", encoding=\"cp1252\") as raw_text_file:\n",
    "    raw_text = raw_text_file.read()\n",
    "    preprocessed_text = preprocess_text (raw_text)"
   ]
  },
  {
   "cell_type": "code",
   "execution_count": 5,
   "metadata": {},
   "outputs": [],
   "source": [
    "_preprocessed_text = bytearray ()\n",
    "\n",
    "for line in preprocessed_text.split ('\\n'):\n",
    "    word_length = len (line)\n",
    "\n",
    "    # _preprocessed_text.extend(chr(word_length).encode('cp1252')) # - add size of word to beginning of the line\n",
    "    _preprocessed_text.extend(line.encode('cp1252'))\n",
    "    _preprocessed_text.extend('\\n'.encode('cp1252'))\n"
   ]
  },
  {
   "cell_type": "code",
   "execution_count": 6,
   "metadata": {},
   "outputs": [],
   "source": [
    "with open (PREPROCESSED_TEXT_NAME, \"w\") as preprocessed_text_file:\n",
    "    preprocessed_text_file.write (_preprocessed_text.decode(\"cp1252\"))"
   ]
  }
 ],
 "metadata": {
  "kernelspec": {
   "display_name": "Python 3",
   "language": "python",
   "name": "python3"
  },
  "language_info": {
   "codemirror_mode": {
    "name": "ipython",
    "version": 3
   },
   "file_extension": ".py",
   "mimetype": "text/x-python",
   "name": "python",
   "nbconvert_exporter": "python",
   "pygments_lexer": "ipython3",
   "version": "3.10.12"
  }
 },
 "nbformat": 4,
 "nbformat_minor": 2
}
